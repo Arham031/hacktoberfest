{
 "cells": [
  {
   "cell_type": "markdown",
   "id": "6242d11a",
   "metadata": {},
   "source": [
    "## Breadth First Search (BFS) Algorithm"
   ]
  },
  {
   "cell_type": "markdown",
   "id": "e4980452",
   "metadata": {},
   "source": [
    "BFS, Breadth-First Search, is a vertex-based technique for finding the shortest path in the graph. It uses a Queue data structure that follows first in first out. In BFS, one vertex is selected at a time when it is visited and marked then its adjacent are visited and stored in the queue. It is slower than DFS."
   ]
  },
  {
   "cell_type": "code",
   "execution_count": 3,
   "id": "260690d0",
   "metadata": {},
   "outputs": [],
   "source": [
    "graph = {\n",
    "    'A' : ['B', 'C'],\n",
    "    'B' : ['D', 'E'],\n",
    "    'C' : ['F'],\n",
    "    'D' : [],\n",
    "    'E' : ['F'],\n",
    "    'F' : [] \n",
    "}\n",
    "\n",
    "def bfs(graph, start):\n",
    "    queue, path = [start],[]\n",
    "    while queue:\n",
    "        vertex = queue.pop(0)\n",
    "        if vertex in path:\n",
    "            continue\n",
    "        path.append(vertex)\n",
    "        print(vertex)\n",
    "        for neighbour in graph[vertex]:\n",
    "            queue.append(neighbour)\n",
    "    return path"
   ]
  },
  {
   "cell_type": "code",
   "execution_count": 4,
   "id": "c7e8ea69",
   "metadata": {},
   "outputs": [
    {
     "name": "stdout",
     "output_type": "stream",
     "text": [
      "A\n",
      "B\n",
      "C\n",
      "D\n",
      "E\n",
      "F\n"
     ]
    },
    {
     "data": {
      "text/plain": [
       "['A', 'B', 'C', 'D', 'E', 'F']"
      ]
     },
     "execution_count": 4,
     "metadata": {},
     "output_type": "execute_result"
    }
   ],
   "source": [
    "bfs(graph,'A')"
   ]
  },
  {
   "cell_type": "code",
   "execution_count": null,
   "id": "a64a8062",
   "metadata": {},
   "outputs": [],
   "source": []
  },
  {
   "cell_type": "markdown",
   "id": "03ff94dd",
   "metadata": {},
   "source": [
    "## Depth First Search (DFS) Algorithm"
   ]
  },
  {
   "cell_type": "markdown",
   "id": "c6593eb0",
   "metadata": {},
   "source": [
    "DFS, Depth First Search, is an edge-based technique. It uses the Stack data structure and performs two stages, first visited vertices are pushed into the stack, and second if there are no vertices then visited vertices are popped. "
   ]
  },
  {
   "cell_type": "code",
   "execution_count": 7,
   "id": "f0c8c5d8",
   "metadata": {},
   "outputs": [],
   "source": [
    "graph = {\n",
    "    'A' : ['B', 'C'],\n",
    "    'B' : ['D', 'E'],\n",
    "    'C' : ['F'],\n",
    "    'D' : [],\n",
    "    'E' : ['F'],\n",
    "    'F' : [] \n",
    "}\n",
    "\n",
    "def dfs(graph, start):\n",
    "    stack, path = [start],[]\n",
    "    while stack:\n",
    "        vertex = stack.pop()\n",
    "        if vertex in path:\n",
    "            continue\n",
    "        path.append(vertex)\n",
    "        print(vertex)\n",
    "        for neighbour in graph[vertex]:\n",
    "            stack.append(neighbour)\n",
    "    return path"
   ]
  },
  {
   "cell_type": "code",
   "execution_count": 8,
   "id": "5d7a551e",
   "metadata": {},
   "outputs": [
    {
     "name": "stdout",
     "output_type": "stream",
     "text": [
      "A\n",
      "C\n",
      "F\n",
      "B\n",
      "E\n",
      "D\n"
     ]
    },
    {
     "data": {
      "text/plain": [
       "['A', 'C', 'F', 'B', 'E', 'D']"
      ]
     },
     "execution_count": 8,
     "metadata": {},
     "output_type": "execute_result"
    }
   ],
   "source": [
    "dfs(graph,'A')"
   ]
  },
  {
   "cell_type": "code",
   "execution_count": null,
   "id": "7a1c51be",
   "metadata": {},
   "outputs": [],
   "source": []
  }
 ],
 "metadata": {
  "kernelspec": {
   "display_name": "Python 3 (ipykernel)",
   "language": "python",
   "name": "python3"
  },
  "language_info": {
   "codemirror_mode": {
    "name": "ipython",
    "version": 3
   },
   "file_extension": ".py",
   "mimetype": "text/x-python",
   "name": "python",
   "nbconvert_exporter": "python",
   "pygments_lexer": "ipython3",
   "version": "3.11.5"
  }
 },
 "nbformat": 4,
 "nbformat_minor": 5
}
